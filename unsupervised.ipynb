{
 "cells": [
  {
   "attachments": {},
   "cell_type": "markdown",
   "metadata": {},
   "source": [
    "# Kmeans\n",
    "Each digit of mnist is 28*28 pixels, then it is truncated and resized to smaller image for faster computation without losing too much information. Then, it is flattend to 1D array and scaled.\n",
    "\n",
    "K-mean with 216 clusters accurately identifies 90% digits of validation dataset though it is **UNSUPERVISED** while having 81% homogeneity score. As shown in the plots, k-means able to identify the underlying structure of mnist dataset. \n",
    "\n",
    "MiniBatchKMeans is used because it is much faster on large dataset.\n",
    "\n",
    "K-mean can be useful to label a larger unlabelled dataset from clustering smaller labelled dataset."
   ]
  },
  {
   "cell_type": "code",
   "execution_count": 2,
   "metadata": {},
   "outputs": [],
   "source": [
    "#Import Libraries\n",
    "import math\n",
    "import mnist\n",
    "\n",
    "import pandas as pd\n",
    "import numpy as np\n",
    "import matplotlib.pyplot as plt\n",
    "\n",
    "import tensorflow as tf # image processing\n",
    "\n",
    "import sklearn as sk\n",
    "from sklearn.cluster import MiniBatchKMeans\n",
    "from sklearn.preprocessing import StandardScaler\n",
    "from utils import get_data\n",
    "mnist.download()\n",
    "np.random.seed(42)"
   ]
  },
  {
   "cell_type": "code",
   "execution_count": 3,
   "metadata": {},
   "outputs": [],
   "source": [
    "def unpad(arr, width):\n",
    "    return arr[width:arr.shape[0]-width, width:arr.shape[1]-width]\n",
    "\n",
    "def flatten_dim(dim):\n",
    "    from operator import mul\n",
    "    from functools import reduce\n",
    "    return reduce(mul, dim)\n",
    "\n",
    "def transform(digits, pad = None, dim = None):\n",
    "    tmp = digits\n",
    "    if pad is not None:\n",
    "        tmp = np.array([unpad(img, pad) for img in tmp])\n",
    "    if dim is not None:\n",
    "        tmp = tf.constant(tmp)\n",
    "        tmp = tf.image.resize(tmp, dim).numpy()\n",
    "    tmp = tmp.reshape(-1, flatten_dim(tmp.shape[1:]))\n",
    "    # the digit images are grayscale ranging 0 to 255 hence\n",
    "    tmp = tmp / 255.0\n",
    "    return tmp\n",
    "\n",
    "def calc_all_metrics(X, true_label, pred_labels):\n",
    "    from sklearn import metrics\n",
    "    return {\n",
    "        'homogeneity': metrics.homogeneity_score(true_label, pred_labels),\n",
    "        'adjusted_rand': metrics.adjusted_rand_score(true_label, pred_labels),\n",
    "        'accuracy' : metrics.accuracy_score(true_label, pred_labels),\n",
    "    }"
   ]
  },
  {
   "cell_type": "code",
   "execution_count": 88,
   "metadata": {},
   "outputs": [
    {
     "data": {
      "text/plain": [
       "[(992, 28, 28, 1), (992,), (111, 28, 28, 1), (111,)]"
      ]
     },
     "execution_count": 88,
     "metadata": {},
     "output_type": "execute_result"
    }
   ],
   "source": [
    "from sklearn.model_selection import train_test_split\n",
    "\n",
    "# digits, labels = mnist.extract_train()\n",
    "# test_digits, test_labels = mnist.extract_test()\n",
    "\n",
    "X,y = get_data()\n",
    "X = X.reshape(-1,28,28,1)\n",
    "digits,test_digits, labels, test_labels = train_test_split(X,y, test_size=0.1, random_state=42)\n",
    "[tmp.shape for tmp in [digits, labels,test_digits, test_labels]]"
   ]
  },
  {
   "cell_type": "code",
   "execution_count": 97,
   "metadata": {},
   "outputs": [
    {
     "data": {
      "text/plain": [
       "array([[0.        , 0.        , 0.        , ..., 0.        , 0.        ,\n",
       "        0.        ],\n",
       "       [0.        , 0.        , 0.        , ..., 0.        , 0.        ,\n",
       "        0.        ],\n",
       "       [0.        , 0.        , 0.22941177, ..., 0.        , 0.        ,\n",
       "        0.        ],\n",
       "       ...,\n",
       "       [0.        , 0.        , 0.34705883, ..., 0.        , 0.        ,\n",
       "        0.        ],\n",
       "       [0.        , 0.        , 0.        , ..., 0.02941176, 0.        ,\n",
       "        0.        ],\n",
       "       [0.        , 0.        , 0.        , ..., 0.25      , 0.        ,\n",
       "        0.        ]], dtype=float32)"
      ]
     },
     "execution_count": 97,
     "metadata": {},
     "output_type": "execute_result"
    }
   ],
   "source": [
    "from sklearn.pipeline import Pipeline\n",
    "from sklearn.preprocessing import FunctionTransformer\n",
    "import skimage\n",
    "steps = [\n",
    "    ('padding-remover', lambda img: unpad(img, 4)),\n",
    "    # tf.image.resize is much faster but it requires data in form of tensor\n",
    "    ('tensor_ctor', lambda img: tf.constant(img)),\n",
    "    ('resizer', lambda img: tf.image.resize(img, (10,10))),\n",
    "    ('to_numpy', lambda img: img.numpy()),\n",
    "    ('flatten', lambda img: img.reshape(-1, flatten_dim(img.shape[1:]))),\n",
    "    ('scaler', lambda img : img / 255.0)\n",
    "]\n",
    "steps = [(nm, FunctionTransformer(step)) for nm, step in steps]\n",
    "preprocessor = Pipeline(steps)\n",
    "preprocessor.fit_transform(digits)"
   ]
  },
  {
   "cell_type": "code",
   "execution_count": 98,
   "metadata": {},
   "outputs": [
    {
     "name": "stdout",
     "output_type": "stream",
     "text": [
      "[(984, 100), (103, 100)]\n"
     ]
    },
    {
     "name": "stderr",
     "output_type": "stream",
     "text": [
      "C:\\Users\\LEONGT~1\\AppData\\Local\\Temp/ipykernel_13948/1815491417.py:15: UserWarning: Matplotlib is currently using module://matplotlib_inline.backend_inline, which is a non-GUI backend, so cannot show the figure.\n",
      "  fig.show()\n"
     ]
    },
    {
     "data": {
      "image/png": "[encoded data removed]",
      "text/plain": [
       "<Figure size 864x864 with 9 Axes>"
      ]
     },
     "metadata": {
      "needs_background": "light"
     },
     "output_type": "display_data"
    }
   ],
   "source": [
    "d = 10\n",
    "digits = preprocessor.fit_transform(digits)\n",
    "test_digits = preprocessor.fit_transform(test_digits)\n",
    "# digits, test_digits = tuple(transform(tmp, 4, (d,d)) for tmp in [digits, test_digits])\n",
    "print([tmp.shape for tmp in [digits, test_digits]])\n",
    "\n",
    "fig, axs = plt.subplots(3, 3, figsize = (12,12))\n",
    "plt.gray()\n",
    "\n",
    "for i, ax in enumerate(axs.flat):\n",
    "    ax.matshow(digits[i].reshape(d,d))\n",
    "    ax.axis('off')\n",
    "    ax.set_title(f'Number {labels[i]}')\n",
    "\n",
    "fig.show()"
   ]
  },
  {
   "cell_type": "code",
   "execution_count": 23,
   "metadata": {},
   "outputs": [
    {
     "name": "stdout",
     "output_type": "stream",
     "text": [
      "10\n"
     ]
    },
    {
     "data": {
      "text/plain": [
       "(MiniBatchKMeans(n_clusters=10),\n",
       " array([9, 2, 6, 8, 5, 0, 4, 3, 6, 1, 6, 5, 7, 9, 5, 9, 1, 7, 6, 1, 5, 9,\n",
       "        8, 2, 6, 7, 6, 0, 1, 6, 3, 5, 2, 1, 5, 4, 4, 3, 4, 1, 0, 6, 7, 9,\n",
       "        8, 9, 6, 7, 3, 6, 6, 2, 4, 7, 3, 5, 2, 3, 6, 6, 1, 0, 5, 0, 2, 2,\n",
       "        4, 5, 9, 6, 6, 3, 4, 6, 6, 5, 9, 2, 5, 0, 2, 8, 4, 6, 3, 2, 1, 6,\n",
       "        1, 9, 5, 3, 5, 3, 5, 4, 5, 0, 5, 9, 1, 6, 6, 6, 6, 3, 6, 7, 6, 7,\n",
       "        3, 5, 9, 6, 1, 6, 6, 6, 0, 2, 8, 7, 8, 9, 2, 0, 5, 5, 6, 1, 4, 5,\n",
       "        6, 3, 6, 2, 5, 0, 5, 2, 3, 2, 1, 9, 3, 6, 9, 2, 9, 9, 8, 8, 4, 9,\n",
       "        5, 6, 2, 6, 0, 0, 2, 2, 1, 2, 3, 8, 2, 9, 5, 5, 9, 5, 5, 3, 6, 0,\n",
       "        8, 2, 6, 6, 5, 6, 6, 5, 0, 6, 9, 4, 5, 5, 9, 6, 3, 0, 6, 9, 1, 6,\n",
       "        0, 9, 2, 8, 1, 2, 4, 2, 2, 9, 4, 6, 8, 2, 5, 0, 0, 4, 8, 6, 2, 1,\n",
       "        6, 5, 2, 5, 5, 6, 6, 0, 8, 5, 6, 9, 3, 3, 3, 3, 1, 5, 0, 6, 1, 6,\n",
       "        6, 1, 1, 4, 1, 3, 6, 8, 5, 1, 4, 4, 5, 0, 6, 6, 2, 3, 6, 6, 0, 6,\n",
       "        4, 0, 1, 6, 8, 9, 8, 1, 8, 5, 0, 0, 5, 2, 6, 6, 6, 9, 0, 6, 0, 2,\n",
       "        0, 6, 8, 8, 8, 4, 7, 2, 8, 9, 9, 5, 5, 9, 3, 6, 8, 4, 1, 4, 5, 5,\n",
       "        9, 1, 1, 3, 5, 6, 0, 5, 2, 5, 6, 9, 8, 0, 5, 5, 6, 2, 5, 3, 6, 8,\n",
       "        5, 8, 5, 6, 2, 0, 5, 3, 5, 5, 2, 6, 9, 1, 9, 0, 2, 3, 7, 9, 8, 3,\n",
       "        7, 1, 2, 9, 6, 6, 6, 0, 7, 6, 6, 8, 3, 8, 6, 5, 2, 6, 5, 0, 7, 7,\n",
       "        9, 9, 1, 5, 0, 2, 5, 1, 8, 2, 1, 1, 3, 9, 8, 8, 5, 6, 9, 3, 6, 9,\n",
       "        6, 8, 3, 6, 0, 6, 3, 3, 6, 9, 1, 1, 3, 1, 6, 3, 2, 9, 2, 5, 6, 5,\n",
       "        6, 4, 9, 5, 1, 1, 5, 8, 2, 8, 4, 2, 5, 6, 5, 6, 1, 0, 6, 7, 4, 7,\n",
       "        9, 7, 8, 5, 9, 7, 7, 9, 5, 3, 3, 9, 5, 0, 9, 6, 9, 5, 5, 5, 7, 2,\n",
       "        0, 6, 6, 5, 2, 0, 1, 5, 0, 3, 6, 9, 6, 9, 5, 4, 0, 8, 9, 6, 1, 5,\n",
       "        6, 7, 3, 0, 6, 8, 7, 2, 6, 6, 0, 5, 6, 1, 5, 3, 3, 8, 5, 7, 0, 2,\n",
       "        8, 6, 4, 5, 6, 7, 3, 7, 5, 6, 6, 9, 6, 9, 0, 9, 3, 1, 0, 3, 5, 1,\n",
       "        0, 5, 8, 6, 1, 2, 6, 6, 3, 8, 5, 5, 7, 9, 5, 5, 3, 6, 2, 9, 5, 3,\n",
       "        0, 0, 1, 6, 3, 0, 6, 1, 5, 5, 3, 0, 9, 6, 7, 7, 9, 5, 6, 0, 8, 9,\n",
       "        5, 9, 6, 7, 5, 9, 6, 6, 3, 6, 1, 5, 1, 0, 6, 9, 9, 6, 6, 3, 5, 7,\n",
       "        5, 6, 6, 0, 3, 7, 4, 0, 6, 3, 7, 6, 6, 0, 5, 6, 0, 6, 9, 5, 8, 9,\n",
       "        3, 8, 5, 0, 8, 3, 6, 5, 4, 3, 2, 1, 9, 4, 1, 5, 7, 4, 5, 9, 2, 5,\n",
       "        9, 5, 0, 2, 8, 3, 9, 7, 2, 9, 7, 6, 2, 9, 4, 6, 5, 5, 0, 9, 0, 6,\n",
       "        4, 6, 6, 2, 2, 5, 5, 6, 7, 5, 5, 9, 6, 6, 1, 2, 7, 8, 6, 5, 6, 5,\n",
       "        5, 3, 0, 7, 1, 7, 9, 8, 1, 3, 8, 2, 9, 5, 5, 5, 9, 4, 6, 0, 2, 6,\n",
       "        5, 1, 7, 8, 3, 4, 2, 5, 5, 4, 9, 8, 4, 5, 9, 5, 5, 2, 6, 2, 9, 5,\n",
       "        2, 5, 8, 0, 7, 0, 3, 5, 0, 6, 6, 5, 6, 3, 6, 2, 0, 1, 5, 8, 2, 7,\n",
       "        4, 6, 2, 4, 9, 3, 6, 5, 1, 4, 5, 8, 6, 2, 1, 6, 2, 6, 5, 5, 0, 6,\n",
       "        1, 0, 0, 6, 9, 6, 0, 9, 5, 5, 5, 0, 0, 2, 6, 2, 7, 3, 5, 7, 4, 8,\n",
       "        0, 7, 6, 2, 3, 6, 9, 9, 6, 0, 6, 8, 3, 9, 7, 5, 4, 6, 9, 2, 5, 6,\n",
       "        0, 5, 6, 9, 6, 5, 6, 2, 5, 0, 5, 5, 7, 9, 6, 8, 6, 3, 4, 9, 8, 3,\n",
       "        4, 7, 0, 9, 2, 3, 8, 2, 3, 6, 3, 5, 9, 9, 3, 9, 6, 9, 1, 4, 7, 6,\n",
       "        1, 1, 2, 8, 5, 9, 5, 8, 0, 2, 9, 0, 9, 6, 6, 9, 0, 8, 1, 4, 7, 5,\n",
       "        9, 3, 6, 8, 7, 2, 8, 7, 6, 3, 5, 3, 8, 5, 3, 2, 8, 6, 9, 3, 3, 1,\n",
       "        4, 5, 6, 1, 2, 3, 7, 0, 5, 5, 2, 2, 2, 8, 9, 2, 2, 0, 9, 9, 0, 3,\n",
       "        3, 9, 3, 6, 5, 1, 2, 7, 6, 3, 2, 7, 6, 9, 9, 8, 5, 8, 3, 3, 4, 3,\n",
       "        4, 9, 9, 6, 6, 8, 3, 6, 0, 9, 2, 8, 3, 5, 3, 5, 4, 8, 4, 9, 9, 4,\n",
       "        7, 2, 9, 6, 0, 3, 6, 4, 6, 5, 7, 0, 5, 6, 3, 1, 9, 1, 0, 2, 2, 9,\n",
       "        2, 4]))"
      ]
     },
     "execution_count": 23,
     "metadata": {},
     "output_type": "execute_result"
    }
   ],
   "source": [
    "print(n_digits := len(np.unique(labels)))\n",
    "kmeans = MiniBatchKMeans(n_clusters=n_digits)"
   ]
  },
  {
   "cell_type": "code",
   "execution_count": 24,
   "metadata": {},
   "outputs": [],
   "source": [
    "def infer_cluster_labels(kmeans, actual_labels):\n",
    "    \"\"\"\n",
    "    Associates most probable label with each cluster in KMeans model\n",
    "    returns: dictionary of clusters assigned to each label\n",
    "    \"\"\"\n",
    "\n",
    "    inferred_labels = {}\n",
    "\n",
    "    for i in range(kmeans.n_clusters):\n",
    "\n",
    "        # extract points that correspond to label == i\n",
    "        labels = []\n",
    "        index = np.where(kmeans.labels_ == i)\n",
    "        \n",
    "        labels.append(actual_labels[index])\n",
    "\n",
    "        # determine most common label\n",
    "        if len(labels[0]) == 1: # why?\n",
    "            counts = np.bincount(labels[0])\n",
    "        else:\n",
    "            counts = np.bincount(np.squeeze(labels))\n",
    "\n",
    "        # assign the cluster to a value in the inferred_labels dictionary\n",
    "        if np.argmax(counts) in inferred_labels:\n",
    "            # append the new number to the existing array at this slot\n",
    "            inferred_labels[np.argmax(counts)].append(i)\n",
    "        else:\n",
    "            # create a new array in this slot\n",
    "            inferred_labels[np.argmax(counts)] = [i]\n",
    "\n",
    "    return inferred_labels\n",
    "\n",
    "\n",
    "def infer_data_labels(X_labels, cluster_labels):\n",
    "    \"\"\"\n",
    "    Determines label for each array, depending on the cluster it has been assigned to.\n",
    "    returns: predicted labels for each array\n",
    "    \"\"\"\n",
    "    \n",
    "    # empty array of len(X)\n",
    "    predicted_labels = np.zeros(len(X_labels)).astype(np.uint8)\n",
    "    \n",
    "    for i, cluster in enumerate(X_labels):\n",
    "        for key, value in cluster_labels.items():\n",
    "            if cluster in value:\n",
    "                predicted_labels[i] = key\n",
    "                \n",
    "    return predicted_labels"
   ]
  },
  {
   "cell_type": "code",
   "execution_count": 25,
   "metadata": {},
   "outputs": [],
   "source": [
    "def calculate_metrics(X, Y, clusters):\n",
    "    from sklearn.metrics import homogeneity_score, accuracy_score\n",
    "    inertia_res, homogeneity_res, acc_res = [],[],[]\n",
    "    \n",
    "    for n_clusters in clusters:\n",
    "        estimator = MiniBatchKMeans(n_clusters = n_clusters).fit(X)\n",
    "    \n",
    "        inertia_res.append(estimator.inertia_)    \n",
    "        homogeneity_res.append(homogeneity_score(labels, estimator.labels_))\n",
    "        \n",
    "        # determine predicted labels\n",
    "        cluster_labels = infer_cluster_labels(estimator, Y)\n",
    "        predicted_Y = infer_data_labels(estimator.labels_, cluster_labels)\n",
    "        \n",
    "        acc_res.append(accuracy_score(Y, predicted_Y))\n",
    "    return inertia_res, homogeneity_res, acc_res"
   ]
  },
  {
   "cell_type": "code",
   "execution_count": 26,
   "metadata": {},
   "outputs": [
    {
     "data": {
      "image/png": "[encoded data removed]",
      "text/plain": [
       "<Figure size 1440x288 with 2 Axes>"
      ]
     },
     "metadata": {
      "needs_background": "light"
     },
     "output_type": "display_data"
    }
   ],
   "source": [
    "clusters = [10, 16, 32, 64, 144, 256]\n",
    "inertia_res, homogeneity_res, acc_res = calculate_metrics(digits, labels, clusters)\n",
    "\n",
    "fig, axs = plt.subplots(1, 2, figsize = (20,4))\n",
    "\n",
    "axs[0].plot(clusters, acc_res, label = 'accuracy')\n",
    "axs[0].plot(clusters, homogeneity_res, label = 'homogeneity')\n",
    "axs[0].legend()\n",
    "axs[0].set_xlabel(\"number of clusters\")\n",
    "\n",
    "axs[1].plot(clusters, inertia_res)\n",
    "axs[1].set_ylabel(\"inertia\")\n",
    "axs[1].set_xlabel(\"number of clusters\");"
   ]
  },
  {
   "cell_type": "code",
   "execution_count": 28,
   "metadata": {},
   "outputs": [
    {
     "data": {
      "text/plain": [
       "{'train': 0.8901209677419355, 'validation': 0.8468468468468469}"
      ]
     },
     "execution_count": 28,
     "metadata": {},
     "output_type": "execute_result"
    }
   ],
   "source": [
    "from sklearn import metrics\n",
    "# initialize and fit KMeans algorithm on training data\n",
    "kmeans = MiniBatchKMeans(n_clusters = 256)\n",
    "kmeans.fit(digits)\n",
    "cluster_labels = infer_cluster_labels(kmeans, labels)\n",
    "\n",
    "# predict labels for testing data\n",
    "test_clusters = kmeans.predict(test_digits)\n",
    "predicted_labels = infer_data_labels(test_clusters, cluster_labels)\n",
    "    \n",
    "# calculate and print accuracy\n",
    "{\n",
    "    'train': metrics.accuracy_score(labels, infer_data_labels(kmeans.predict(digits), cluster_labels)),\n",
    "    'validation': metrics.accuracy_score(test_labels, predicted_labels)\n",
    "}"
   ]
  },
  {
   "cell_type": "code",
   "execution_count": 29,
   "metadata": {},
   "outputs": [
    {
     "data": {
      "text/plain": [
       "{'homogeneity': 0.7857417818564659,\n",
       " 'adjusted_rand': 0.7691306962012829,\n",
       " 'accuracy': 0.8901209677419355}"
      ]
     },
     "execution_count": 29,
     "metadata": {},
     "output_type": "execute_result"
    },
    {
     "data": {
      "image/png": "[encoded data removed]",
      "text/plain": [
       "<Figure size 432x288 with 1 Axes>"
      ]
     },
     "metadata": {
      "needs_background": "light"
     },
     "output_type": "display_data"
    }
   ],
   "source": [
    "def plot_confusion_matrix(labels, pred_labels):\n",
    "    import seaborn as sns\n",
    "    from sklearn.metrics import confusion_matrix\n",
    "    mat = confusion_matrix(labels, pred_labels)\n",
    "    sns.heatmap(mat.T, square=True, annot=True, fmt='d', cbar=False)\n",
    "    plt.xlabel('true label')\n",
    "    plt.ylabel('predicted label')\n",
    "\n",
    "train_cluster = kmeans.predict(digits)\n",
    "pred_labels = infer_data_labels(train_cluster, cluster_labels)\n",
    "plot_confusion_matrix(labels, pred_labels)\n",
    "calc_all_metrics(digits, labels, pred_labels)"
   ]
  },
  {
   "cell_type": "code",
   "execution_count": 30,
   "metadata": {},
   "outputs": [
    {
     "data": {
      "text/plain": [
       "{'homogeneity': 0.7967514859580718,\n",
       " 'adjusted_rand': 0.6825611798133748,\n",
       " 'accuracy': 0.8468468468468469}"
      ]
     },
     "execution_count": 30,
     "metadata": {},
     "output_type": "execute_result"
    },
    {
     "data": {
      "image/png": "[encoded data removed]",
      "text/plain": [
       "<Figure size 432x288 with 1 Axes>"
      ]
     },
     "metadata": {
      "needs_background": "light"
     },
     "output_type": "display_data"
    }
   ],
   "source": [
    "test_clusters = kmeans.predict(test_digits)\n",
    "pred_labels = infer_data_labels(test_clusters, cluster_labels)\n",
    "plot_confusion_matrix(test_labels, pred_labels)\n",
    "calc_all_metrics(test_digits, test_labels, pred_labels)"
   ]
  }
 ],
 "metadata": {
  "kernelspec": {
   "display_name": "Python 3",
   "language": "python",
   "name": "python3"
  },
  "language_info": {
   "codemirror_mode": {
    "name": "ipython",
    "version": 3
   },
   "file_extension": ".py",
   "mimetype": "text/x-python",
   "name": "python",
   "nbconvert_exporter": "python",
   "pygments_lexer": "ipython3",
   "version": "3.10.2 (tags/v3.10.2:a58ebcc, Jan 17 2022, 14:12:15) [MSC v.1929 64 bit (AMD64)]"
  },
  "orig_nbformat": 4,
  "vscode": {
   "interpreter": {
    "hash": "2324a66782fee6ab9f0bdb3c9e79ee636ed86487484f245c4444858429ce7730"
   }
  }
 },
 "nbformat": 4,
 "nbformat_minor": 2
}
